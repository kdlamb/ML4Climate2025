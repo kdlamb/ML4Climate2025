{
 "cells": [
  {
   "cell_type": "markdown",
   "id": "b4b9c558-12aa-42e1-be93-c55792ce4e12",
   "metadata": {},
   "source": [
    "# Data Exploration and Preprocessing"
   ]
  },
  {
   "cell_type": "code",
   "execution_count": 1,
   "id": "c7bf1c73-27c8-468a-b009-53f3be71413b",
   "metadata": {},
   "outputs": [],
   "source": [
    "import os\n",
    "import glob\n",
    "import pandas as pd"
   ]
  },
  {
   "cell_type": "code",
   "execution_count": null,
   "id": "c56c5da9-9bee-4619-b6e1-f8fd843031a5",
   "metadata": {},
   "outputs": [],
   "source": []
  },
  {
   "cell_type": "code",
   "execution_count": null,
   "id": "5568e881-d898-4313-8ec7-cde7f586fc57",
   "metadata": {},
   "outputs": [],
   "source": []
  },
  {
   "cell_type": "code",
   "execution_count": 2,
   "id": "6ef447e3-b015-4b30-a953-a87b6ee8cc71",
   "metadata": {},
   "outputs": [
    {
     "data": {
      "text/plain": [
       "['/Users/karalamb/Columbia/Teaching/Climate School ML Course/ams-ml-python-course/data/track_data_ncar_ams_3km_csv_small/track_step_NCARSTORM_d01_20101024-0000.csv',\n",
       " '/Users/karalamb/Columbia/Teaching/Climate School ML Course/ams-ml-python-course/data/track_data_ncar_ams_3km_csv_small/track_step_NCARSTORM_d01_20101122-0000.csv',\n",
       " '/Users/karalamb/Columbia/Teaching/Climate School ML Course/ams-ml-python-course/data/track_data_ncar_ams_3km_csv_small/track_step_NCARSTORM_d01_20110201-0000.csv',\n",
       " '/Users/karalamb/Columbia/Teaching/Climate School ML Course/ams-ml-python-course/data/track_data_ncar_ams_3km_csv_small/track_step_NCARSTORM_d01_20110308-0000.csv',\n",
       " '/Users/karalamb/Columbia/Teaching/Climate School ML Course/ams-ml-python-course/data/track_data_ncar_ams_3km_csv_small/track_step_NCARSTORM_d01_20110326-0000.csv']"
      ]
     },
     "execution_count": 2,
     "metadata": {},
     "output_type": "execute_result"
    }
   ],
   "source": [
    "# set the path to the data as a string\n",
    "dirpath = \"/Users/karalamb/Columbia/Teaching/Climate School ML Course/ams-ml-python-course\"\n",
    "path = os.path.join(dirpath,\"data/track_data_ncar_ams_3km_csv_small/\")\n",
    "\n",
    "# create a list of the files and print it out\n",
    "files = sorted(glob.glob(path+\"/*.csv\"))\n",
    "\n",
    "# Show first 5\n",
    "files[:5]"
   ]
  },
  {
   "cell_type": "code",
   "execution_count": 3,
   "id": "1f2606b1-ec7d-458f-bccc-89e7ea192dd8",
   "metadata": {},
   "outputs": [
    {
     "name": "stdout",
     "output_type": "stream",
     "text": [
      "Index(['Step_ID', 'Track_ID', 'Ensemble_Name', 'Ensemble_Member', 'Run_Date',\n",
      "       'Valid_Date', 'Forecast_Hour', 'Valid_Hour_UTC', 'Duration',\n",
      "       'Centroid_Lon', 'Centroid_Lat', 'Centroid_X', 'Centroid_Y',\n",
      "       'Storm_Motion_U', 'Storm_Motion_V', 'REFL_COM_mean', 'REFL_COM_max',\n",
      "       'REFL_COM_min', 'REFL_COM_std', 'REFL_COM_percentile_10',\n",
      "       'REFL_COM_percentile_25', 'REFL_COM_percentile_50',\n",
      "       'REFL_COM_percentile_75', 'REFL_COM_percentile_90', 'U10_mean',\n",
      "       'U10_max', 'U10_min', 'U10_std', 'U10_percentile_10',\n",
      "       'U10_percentile_25', 'U10_percentile_50', 'U10_percentile_75',\n",
      "       'U10_percentile_90', 'V10_mean', 'V10_max', 'V10_min', 'V10_std',\n",
      "       'V10_percentile_10', 'V10_percentile_25', 'V10_percentile_50',\n",
      "       'V10_percentile_75', 'V10_percentile_90', 'T2_mean', 'T2_max', 'T2_min',\n",
      "       'T2_std', 'T2_percentile_10', 'T2_percentile_25', 'T2_percentile_50',\n",
      "       'T2_percentile_75', 'T2_percentile_90', 'RVORT1_MAX-future_mean',\n",
      "       'RVORT1_MAX-future_max', 'RVORT1_MAX-future_min',\n",
      "       'RVORT1_MAX-future_std', 'RVORT1_MAX-future_percentile_10',\n",
      "       'RVORT1_MAX-future_percentile_25', 'RVORT1_MAX-future_percentile_50',\n",
      "       'RVORT1_MAX-future_percentile_75', 'RVORT1_MAX-future_percentile_90',\n",
      "       'HAIL_MAXK1-future_mean', 'HAIL_MAXK1-future_max',\n",
      "       'HAIL_MAXK1-future_min', 'HAIL_MAXK1-future_std',\n",
      "       'HAIL_MAXK1-future_percentile_10', 'HAIL_MAXK1-future_percentile_25',\n",
      "       'HAIL_MAXK1-future_percentile_50', 'HAIL_MAXK1-future_percentile_75',\n",
      "       'HAIL_MAXK1-future_percentile_90', 'area', 'eccentricity',\n",
      "       'major_axis_length', 'minor_axis_length', 'orientation', 'Matched',\n",
      "       'Max_Hail_Size', 'Num_Matches', 'Shape', 'Location', 'Scale'],\n",
      "      dtype='object')\n"
     ]
    }
   ],
   "source": [
    "df = pd.concat([pd.read_csv(f) for f in files], ignore_index=True)\n",
    "print(df.keys())"
   ]
  },
  {
   "cell_type": "markdown",
   "id": "e5b4bf76-6978-4c76-a9fa-21169138050b",
   "metadata": {},
   "source": [
    "## Explore the .csv file data sets"
   ]
  },
  {
   "cell_type": "markdown",
   "id": "32cce772-782e-487f-8b32-4848525a66d9",
   "metadata": {},
   "source": [
    "It's always important to understand your data before you do anything with it! If you don't understand your data, your analysis will be difficult and conclusions can be incorrect.\n",
    "\n",
    "First we will get a subsection of the data into a `DataFrame` object by using the labels found by printing the list of keys."
   ]
  },
  {
   "cell_type": "code",
   "execution_count": 4,
   "id": "4a88fc6a-8992-45b9-953d-ff7bf839f6d8",
   "metadata": {},
   "outputs": [
    {
     "data": {
      "text/html": [
       "<div>\n",
       "<style scoped>\n",
       "    .dataframe tbody tr th:only-of-type {\n",
       "        vertical-align: middle;\n",
       "    }\n",
       "\n",
       "    .dataframe tbody tr th {\n",
       "        vertical-align: top;\n",
       "    }\n",
       "\n",
       "    .dataframe thead th {\n",
       "        text-align: right;\n",
       "    }\n",
       "</style>\n",
       "<table border=\"1\" class=\"dataframe\">\n",
       "  <thead>\n",
       "    <tr style=\"text-align: right;\">\n",
       "      <th></th>\n",
       "      <th>Step_ID</th>\n",
       "      <th>U10_mean</th>\n",
       "      <th>V10_mean</th>\n",
       "      <th>T2_mean</th>\n",
       "    </tr>\n",
       "  </thead>\n",
       "  <tbody>\n",
       "    <tr>\n",
       "      <th>0</th>\n",
       "      <td>d01_REFL_COM_20101024-0000_12_12_000_00</td>\n",
       "      <td>0.19710</td>\n",
       "      <td>5.32790</td>\n",
       "      <td>293.14920</td>\n",
       "    </tr>\n",
       "    <tr>\n",
       "      <th>1</th>\n",
       "      <td>d01_REFL_COM_20101024-0000_12_12_001_00</td>\n",
       "      <td>-1.03154</td>\n",
       "      <td>5.33612</td>\n",
       "      <td>292.00092</td>\n",
       "    </tr>\n",
       "    <tr>\n",
       "      <th>2</th>\n",
       "      <td>d01_REFL_COM_20101024-0000_12_15_002_00</td>\n",
       "      <td>-0.21393</td>\n",
       "      <td>1.99015</td>\n",
       "      <td>293.00864</td>\n",
       "    </tr>\n",
       "    <tr>\n",
       "      <th>3</th>\n",
       "      <td>d01_REFL_COM_20101024-0000_12_15_002_01</td>\n",
       "      <td>1.27862</td>\n",
       "      <td>1.81628</td>\n",
       "      <td>292.64368</td>\n",
       "    </tr>\n",
       "    <tr>\n",
       "      <th>4</th>\n",
       "      <td>d01_REFL_COM_20101024-0000_12_15_002_02</td>\n",
       "      <td>0.88129</td>\n",
       "      <td>4.33189</td>\n",
       "      <td>292.39392</td>\n",
       "    </tr>\n",
       "  </tbody>\n",
       "</table>\n",
       "</div>"
      ],
      "text/plain": [
       "                                   Step_ID  U10_mean  V10_mean    T2_mean\n",
       "0  d01_REFL_COM_20101024-0000_12_12_000_00   0.19710   5.32790  293.14920\n",
       "1  d01_REFL_COM_20101024-0000_12_12_001_00  -1.03154   5.33612  292.00092\n",
       "2  d01_REFL_COM_20101024-0000_12_15_002_00  -0.21393   1.99015  293.00864\n",
       "3  d01_REFL_COM_20101024-0000_12_15_002_01   1.27862   1.81628  292.64368\n",
       "4  d01_REFL_COM_20101024-0000_12_15_002_02   0.88129   4.33189  292.39392"
      ]
     },
     "execution_count": 4,
     "metadata": {},
     "output_type": "execute_result"
    }
   ],
   "source": [
    "df1 = df.loc[:,['Step_ID', 'U10_mean', 'V10_mean', 'T2_mean']]\n",
    "df1.head()"
   ]
  },
  {
   "cell_type": "markdown",
   "id": "dbdfa688-cb8c-4d24-a8eb-7f3e66555a8d",
   "metadata": {},
   "source": [
    "You can explore the data in various ways. \n",
    "\n",
    "First, how many samples are in our data set? "
   ]
  },
  {
   "cell_type": "code",
   "execution_count": 5,
   "id": "60649397-c911-4404-a09b-9e23aa1d5faa",
   "metadata": {},
   "outputs": [
    {
     "name": "stdout",
     "output_type": "stream",
     "text": [
      "Number of rows: 121137\n"
     ]
    }
   ],
   "source": [
    "print(\"Number of rows: \" + str(len(df1)))"
   ]
  },
  {
   "cell_type": "markdown",
   "id": "6e85cb4b-59b9-4002-9163-f8bacc400125",
   "metadata": {},
   "source": [
    "Commands built into `Pandas` can provide an overview of the statistics of our data set"
   ]
  },
  {
   "cell_type": "code",
   "execution_count": 6,
   "id": "41548ad0-84fb-4de6-aa78-a27ed7350488",
   "metadata": {},
   "outputs": [
    {
     "data": {
      "text/html": [
       "<div>\n",
       "<style scoped>\n",
       "    .dataframe tbody tr th:only-of-type {\n",
       "        vertical-align: middle;\n",
       "    }\n",
       "\n",
       "    .dataframe tbody tr th {\n",
       "        vertical-align: top;\n",
       "    }\n",
       "\n",
       "    .dataframe thead th {\n",
       "        text-align: right;\n",
       "    }\n",
       "</style>\n",
       "<table border=\"1\" class=\"dataframe\">\n",
       "  <thead>\n",
       "    <tr style=\"text-align: right;\">\n",
       "      <th></th>\n",
       "      <th>U10_mean</th>\n",
       "      <th>V10_mean</th>\n",
       "      <th>T2_mean</th>\n",
       "    </tr>\n",
       "  </thead>\n",
       "  <tbody>\n",
       "    <tr>\n",
       "      <th>count</th>\n",
       "      <td>121137.000000</td>\n",
       "      <td>121137.00000</td>\n",
       "      <td>121137.000000</td>\n",
       "    </tr>\n",
       "    <tr>\n",
       "      <th>mean</th>\n",
       "      <td>0.327331</td>\n",
       "      <td>0.36504</td>\n",
       "      <td>289.465444</td>\n",
       "    </tr>\n",
       "    <tr>\n",
       "      <th>std</th>\n",
       "      <td>4.251063</td>\n",
       "      <td>4.51375</td>\n",
       "      <td>6.963805</td>\n",
       "    </tr>\n",
       "    <tr>\n",
       "      <th>min</th>\n",
       "      <td>-18.653700</td>\n",
       "      <td>-24.14743</td>\n",
       "      <td>262.921600</td>\n",
       "    </tr>\n",
       "    <tr>\n",
       "      <th>25%</th>\n",
       "      <td>-2.449740</td>\n",
       "      <td>-2.48763</td>\n",
       "      <td>285.292210</td>\n",
       "    </tr>\n",
       "    <tr>\n",
       "      <th>50%</th>\n",
       "      <td>0.274450</td>\n",
       "      <td>0.49327</td>\n",
       "      <td>290.714110</td>\n",
       "    </tr>\n",
       "    <tr>\n",
       "      <th>75%</th>\n",
       "      <td>3.085180</td>\n",
       "      <td>3.35748</td>\n",
       "      <td>294.436310</td>\n",
       "    </tr>\n",
       "    <tr>\n",
       "      <th>max</th>\n",
       "      <td>19.686640</td>\n",
       "      <td>18.61693</td>\n",
       "      <td>314.625730</td>\n",
       "    </tr>\n",
       "  </tbody>\n",
       "</table>\n",
       "</div>"
      ],
      "text/plain": [
       "            U10_mean      V10_mean        T2_mean\n",
       "count  121137.000000  121137.00000  121137.000000\n",
       "mean        0.327331       0.36504     289.465444\n",
       "std         4.251063       4.51375       6.963805\n",
       "min       -18.653700     -24.14743     262.921600\n",
       "25%        -2.449740      -2.48763     285.292210\n",
       "50%         0.274450       0.49327     290.714110\n",
       "75%         3.085180       3.35748     294.436310\n",
       "max        19.686640      18.61693     314.625730"
      ]
     },
     "execution_count": 6,
     "metadata": {},
     "output_type": "execute_result"
    }
   ],
   "source": [
    "df1.describe()"
   ]
  },
  {
   "cell_type": "markdown",
   "id": "0848c9e1-d53a-4996-868a-9547d5a707bf",
   "metadata": {},
   "source": [
    "Using plotting libraries like `matplotlib`, `seaborn` and `plotly`, we can create graphics using the tabular data.\n",
    "\n",
    "But `Pandas` provides a few very common visualizations itself (by using `matplotlib` behind the scenes as its plotting backend)"
   ]
  },
  {
   "cell_type": "code",
   "execution_count": 7,
   "id": "9c77fd1e-8d08-496b-bb1e-938e4a5490ef",
   "metadata": {},
   "outputs": [
    {
     "data": {
      "text/plain": [
       "array([[<Axes: title={'center': 'U10_mean'}>,\n",
       "        <Axes: title={'center': 'V10_mean'}>],\n",
       "       [<Axes: title={'center': 'T2_mean'}>, <Axes: >]], dtype=object)"
      ]
     },
     "execution_count": 7,
     "metadata": {},
     "output_type": "execute_result"
    },
    {
     "data": {
      "image/png": "[encoded data removed]",
      "text/plain": [
       "<Figure size 640x480 with 4 Axes>"
      ]
     },
     "metadata": {},
     "output_type": "display_data"
    }
   ],
   "source": [
    "df1.hist()"
   ]
  },
  {
   "cell_type": "code",
   "execution_count": null,
   "id": "d087bc43-0cd7-4e2a-ae49-945bc50e8ba4",
   "metadata": {},
   "outputs": [],
   "source": []
  },
  {
   "cell_type": "code",
   "execution_count": null,
   "id": "8361e12f-f864-4fda-97a8-489364d6dbeb",
   "metadata": {},
   "outputs": [],
   "source": []
  }
 ],
 "metadata": {
  "kernelspec": {
   "display_name": "Python 3 (ipykernel)",
   "language": "python",
   "name": "python3"
  },
  "language_info": {
   "codemirror_mode": {
    "name": "ipython",
    "version": 3
   },
   "file_extension": ".py",
   "mimetype": "text/x-python",
   "name": "python",
   "nbconvert_exporter": "python",
   "pygments_lexer": "ipython3",
   "version": "3.8.16"
  }
 },
 "nbformat": 4,
 "nbformat_minor": 5
}