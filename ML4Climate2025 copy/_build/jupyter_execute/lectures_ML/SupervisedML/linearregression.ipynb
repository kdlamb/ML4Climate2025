{
 "cells": [
  {
   "cell_type": "markdown",
   "id": "3a84f467-179c-470d-8f27-f0d71b45cc89",
   "metadata": {},
   "source": [
    "# Linear Regression\n",
    "Linear regression is a method to develop a simple linear model to predict a value given a set of features"
   ]
  },
  {
   "cell_type": "code",
   "execution_count": null,
   "id": "d5bf8375-8ff8-48fa-a51a-2e9276ff1638",
   "metadata": {},
   "outputs": [],
   "source": []
  }
 ],
 "metadata": {
  "kernelspec": {
   "display_name": "Python 3 (ipykernel)",
   "language": "python",
   "name": "python3"
  },
  "language_info": {
   "codemirror_mode": {
    "name": "ipython",
    "version": 3
   },
   "file_extension": ".py",
   "mimetype": "text/x-python",
   "name": "python",
   "nbconvert_exporter": "python",
   "pygments_lexer": "ipython3",
   "version": "3.8.16"
  }
 },
 "nbformat": 4,
 "nbformat_minor": 5
}