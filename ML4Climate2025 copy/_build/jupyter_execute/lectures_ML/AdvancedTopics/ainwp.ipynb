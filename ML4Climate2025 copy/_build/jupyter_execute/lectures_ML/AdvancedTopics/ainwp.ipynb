{
 "cells": [
  {
   "cell_type": "markdown",
   "id": "b460c121-79ab-4907-8f48-47918d610223",
   "metadata": {},
   "source": [
    "# AI Numerical Weather Prediction Models\n",
    "\n",
    "Machine learning is increasingly being used to emulate Earth System Models. One application that demonstrated significant potential over the past few years is the emulation of numerical weather prediction (NWP) models.\n",
    "\n",
    "Traditional NWP parameterizes many different physical processes and solves partial differential equations in order to predict the weather. \n",
    "\n",
    "Statistical forecasting refers to predicting the future based on the past. Rather than using physical equations, AI NWP models train on historical observations to predict the future weather. \n",
    "\n",
    "The most sophisticated of these models are showing skill on the order of state-of-the-art NWP models."
   ]
  },
  {
   "cell_type": "code",
   "execution_count": null,
   "id": "0e2c7115-70b1-4630-99ba-24be9609fe3b",
   "metadata": {},
   "outputs": [],
   "source": []
  }
 ],
 "metadata": {
  "kernelspec": {
   "display_name": "Python 3 (ipykernel)",
   "language": "python",
   "name": "python3"
  },
  "language_info": {
   "codemirror_mode": {
    "name": "ipython",
    "version": 3
   },
   "file_extension": ".py",
   "mimetype": "text/x-python",
   "name": "python",
   "nbconvert_exporter": "python",
   "pygments_lexer": "ipython3",
   "version": "3.8.16"
  }
 },
 "nbformat": 4,
 "nbformat_minor": 5
}