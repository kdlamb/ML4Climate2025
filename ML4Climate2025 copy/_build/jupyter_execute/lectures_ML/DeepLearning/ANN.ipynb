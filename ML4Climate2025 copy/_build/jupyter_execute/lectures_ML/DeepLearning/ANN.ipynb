{
 "cells": [
  {
   "cell_type": "markdown",
   "id": "36dc679a-9804-4091-bab8-5ba95b4328e6",
   "metadata": {},
   "source": [
    "# Artificial Neural Networks (ANN) \n",
    "Neural networks are machine learning models that can be used to ."
   ]
  },
  {
   "cell_type": "code",
   "execution_count": null,
   "id": "0a97b67c-74d7-4622-9d3e-e5971bca38d9",
   "metadata": {},
   "outputs": [],
   "source": []
  }
 ],
 "metadata": {
  "kernelspec": {
   "display_name": "Python 3 (ipykernel)",
   "language": "python",
   "name": "python3"
  },
  "language_info": {
   "codemirror_mode": {
    "name": "ipython",
    "version": 3
   },
   "file_extension": ".py",
   "mimetype": "text/x-python",
   "name": "python",
   "nbconvert_exporter": "python",
   "pygments_lexer": "ipython3",
   "version": "3.8.16"
  }
 },
 "nbformat": 4,
 "nbformat_minor": 5
}