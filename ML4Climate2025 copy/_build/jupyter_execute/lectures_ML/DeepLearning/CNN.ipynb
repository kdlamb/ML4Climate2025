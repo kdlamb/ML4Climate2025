{
 "cells": [
  {
   "cell_type": "markdown",
   "id": "85a12545-d0cc-43e2-89cf-ef1272c02300",
   "metadata": {},
   "source": [
    "# Convolutional Neural Networks (CNN)\n",
    "Convolutional neural networks are machine learning models that work well for image data."
   ]
  },
  {
   "cell_type": "code",
   "execution_count": null,
   "id": "398ce462-038a-491c-881b-b419ed10cf21",
   "metadata": {},
   "outputs": [],
   "source": []
  }
 ],
 "metadata": {
  "kernelspec": {
   "display_name": "Python 3 (ipykernel)",
   "language": "python",
   "name": "python3"
  },
  "language_info": {
   "codemirror_mode": {
    "name": "ipython",
    "version": 3
   },
   "file_extension": ".py",
   "mimetype": "text/x-python",
   "name": "python",
   "nbconvert_exporter": "python",
   "pygments_lexer": "ipython3",
   "version": "3.8.16"
  }
 },
 "nbformat": 4,
 "nbformat_minor": 5
}