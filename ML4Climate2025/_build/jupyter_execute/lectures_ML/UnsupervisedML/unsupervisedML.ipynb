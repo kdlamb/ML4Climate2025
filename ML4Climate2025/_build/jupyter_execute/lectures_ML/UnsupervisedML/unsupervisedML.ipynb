{
 "cells": [
  {
   "cell_type": "markdown",
   "id": "4e235770-a4c9-4523-80ea-20fbb499f0d9",
   "metadata": {},
   "source": [
    "# Unsupervised Machine Learning\n",
    "Unsupervised ML refers to learning from unlabeled data sets. That is, we try to learn relationships between points in our data based on the features themselves."
   ]
  },
  {
   "cell_type": "code",
   "execution_count": null,
   "id": "d6f34a6d-3a7b-47cf-9bac-5d6e06772dbc",
   "metadata": {},
   "outputs": [],
   "source": []
  }
 ],
 "metadata": {
  "kernelspec": {
   "display_name": "Python 3 (ipykernel)",
   "language": "python",
   "name": "python3"
  },
  "language_info": {
   "codemirror_mode": {
    "name": "ipython",
    "version": 3
   },
   "file_extension": ".py",
   "mimetype": "text/x-python",
   "name": "python",
   "nbconvert_exporter": "python",
   "pygments_lexer": "ipython3",
   "version": "3.8.16"
  }
 },
 "nbformat": 4,
 "nbformat_minor": 5
}