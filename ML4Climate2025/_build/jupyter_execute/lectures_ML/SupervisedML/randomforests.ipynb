{
 "cells": [
  {
   "cell_type": "markdown",
   "id": "6d19d85b-c8c1-4830-b766-a53547a045dd",
   "metadata": {},
   "source": [
    "# Decision Trees and Random Forests\n",
    "Decision trees are an algorithm that can be used to determine how to classify or predict a value by making sequential desicions about the values of different features associated with a sample.\n",
    "\n",
    "Random forests use the ensemble vote of many decision trees to classify or predict a value."
   ]
  },
  {
   "cell_type": "code",
   "execution_count": null,
   "id": "d4d8563d-5d85-47fb-8cd3-3a9fe4964c1b",
   "metadata": {},
   "outputs": [],
   "source": []
  }
 ],
 "metadata": {
  "kernelspec": {
   "display_name": "Python 3 (ipykernel)",
   "language": "python",
   "name": "python3"
  },
  "language_info": {
   "codemirror_mode": {
    "name": "ipython",
    "version": 3
   },
   "file_extension": ".py",
   "mimetype": "text/x-python",
   "name": "python",
   "nbconvert_exporter": "python",
   "pygments_lexer": "ipython3",
   "version": "3.8.16"
  }
 },
 "nbformat": 4,
 "nbformat_minor": 5
}