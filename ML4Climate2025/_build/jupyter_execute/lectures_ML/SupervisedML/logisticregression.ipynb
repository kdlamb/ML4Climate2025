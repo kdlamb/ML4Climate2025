{
 "cells": [
  {
   "cell_type": "markdown",
   "id": "b4b9c558-12aa-42e1-be93-c55792ce4e12",
   "metadata": {},
   "source": [
    "# Tutorial on Logistic Regression (US Wildfires)\n",
    "Logistic regression is a method that can be used to classify objects into different categories, given a set of features (variables) associated with each object.\n",
    "\n",
    "In this tuturial, we will continue with the data set of US Wildfires from 1990 - 2016 that we used in the preprocessing tutorial. This data set includes the location and time of 50,000 recent wildfires, as well as information about the type of vegetation and co-located meteorological data during the time when the fires occurred. It is a subset of a much larger data set of 1.8 million US Wildfires.\n",
    "\n",
    "The data set is available on Kaggle: [US Wildfires and other attributes](https://www.kaggle.com/datasets/capcloudcoder/us-wildfire-data-plus-other-attributes?select=Wildfire_att_description.txt)"
   ]
  },
  {
   "cell_type": "code",
   "execution_count": null,
   "id": "c7bf1c73-27c8-468a-b009-53f3be71413b",
   "metadata": {},
   "outputs": [],
   "source": []
  }
 ],
 "metadata": {
  "kernelspec": {
   "display_name": "Python 3 (ipykernel)",
   "language": "python",
   "name": "python3"
  },
  "language_info": {
   "codemirror_mode": {
    "name": "ipython",
    "version": 3
   },
   "file_extension": ".py",
   "mimetype": "text/x-python",
   "name": "python",
   "nbconvert_exporter": "python",
   "pygments_lexer": "ipython3",
   "version": "3.8.16"
  }
 },
 "nbformat": 4,
 "nbformat_minor": 5
}