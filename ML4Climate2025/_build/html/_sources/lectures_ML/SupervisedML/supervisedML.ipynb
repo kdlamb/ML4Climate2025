{
 "cells": [
  {
   "cell_type": "markdown",
   "id": "b4b9c558-12aa-42e1-be93-c55792ce4e12",
   "metadata": {},
   "source": [
    "# Data Preprocessing and Feature Engineering"
   ]
  },
  {
   "cell_type": "code",
   "execution_count": null,
   "id": "c7bf1c73-27c8-468a-b009-53f3be71413b",
   "metadata": {},
   "outputs": [],
   "source": []
  }
 ],
 "metadata": {
  "kernelspec": {
   "display_name": "Python 3 (ipykernel)",
   "language": "python",
   "name": "python3"
  },
  "language_info": {
   "codemirror_mode": {
    "name": "ipython",
    "version": 3
   },
   "file_extension": ".py",
   "mimetype": "text/x-python",
   "name": "python",
   "nbconvert_exporter": "python",
   "pygments_lexer": "ipython3",
   "version": "3.8.20"
  }
 },
 "nbformat": 4,
 "nbformat_minor": 5
}
