{
 "cells": [
  {
   "cell_type": "markdown",
   "id": "72484278-599f-4acf-a186-c11d3fc2d79a",
   "metadata": {},
   "source": [
    "# Recurrent Neural Networks (RNN)\n",
    "Recurrent neural networks are machine learning models that were developed in the context of natural language processing and work well for sequential data."
   ]
  },
  {
   "cell_type": "code",
   "execution_count": null,
   "id": "7ec89116-3ea1-4dfc-8299-93ab8eb6aebf",
   "metadata": {},
   "outputs": [],
   "source": []
  }
 ],
 "metadata": {
  "kernelspec": {
   "display_name": "Python 3 (ipykernel)",
   "language": "python",
   "name": "python3"
  },
  "language_info": {
   "codemirror_mode": {
    "name": "ipython",
    "version": 3
   },
   "file_extension": ".py",
   "mimetype": "text/x-python",
   "name": "python",
   "nbconvert_exporter": "python",
   "pygments_lexer": "ipython3",
   "version": "3.8.16"
  }
 },
 "nbformat": 4,
 "nbformat_minor": 5
}
